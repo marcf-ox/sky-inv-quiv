{
 "cells": [
  {
   "cell_type": "code",
   "execution_count": null,
   "id": "18d82b75",
   "metadata": {},
   "outputs": [],
   "source": [
    "from sky_inv_quiv import computeHN\n",
    "import sky_inv_quiv.sky_inv_quiv.auxHN as aux"
   ]
  },
  {
   "cell_type": "code",
   "execution_count": null,
   "id": "d0e9d099",
   "metadata": {},
   "outputs": [],
   "source": [
    "#4 by 4 grid over Q\n",
    "n=4\n",
    "field = Field.Field(\"Q\")\n",
    "xmax=[n,n]\n",
    "#two interval modules and one non-thin indecomposable module\n",
    "V1,supp1= aux.int_module_in_grid_quiver( xmax, [(0,0)],[(0,2),(1,1)],field)\n",
    "V2,supp2= aux.int_module_in_grid_quiver( xmax, [(0,0)],[(2,1),(1,2)],field)\n",
    "V3=aux.grid_indec(xmax,field)\n",
    "V=aux.direct_sum(aux.direct_sum(V1, V2), V3)\n",
    "V.display_graph(\"V before change of basis\")"
   ]
  },
  {
   "cell_type": "code",
   "execution_count": null,
   "id": "aed7f838",
   "metadata": {},
   "outputs": [],
   "source": [
    "#basis change\n",
    "V=random_change_bases(V)\n",
    "V.display_graph(\"V\")"
   ]
  },
  {
   "cell_type": "code",
   "execution_count": null,
   "id": "8caedcf7",
   "metadata": {},
   "outputs": [],
   "source": [
    "#compute the HN type of V along delta(0,0)\n",
    "HN=computeHN(V,x_set)\n",
    "aux.print_grid_HN_type(HN, xmax,  x_set)"
   ]
  },
  {
   "cell_type": "code",
   "execution_count": null,
   "id": "0d19669d",
   "metadata": {},
   "outputs": [],
   "source": [
    "#check correctness of HN computation\n",
    "HN_check= compute_HN_from_support( [ V1,V2,V3],False)\n",
    "\n",
    "if len(HN_check[(0,0)])==len(HN[(0,0)]):\n",
    "    print(\"success\")\n",
    "else:\n",
    "    print(\"failure\")"
   ]
  }
 ],
 "metadata": {
  "language_info": {
   "name": "python"
  }
 },
 "nbformat": 4,
 "nbformat_minor": 5
}
