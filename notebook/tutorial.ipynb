{
 "cells": [
  {
   "cell_type": "code",
   "execution_count": null,
   "id": "18d82b75",
   "metadata": {},
   "outputs": [],
   "source": []
  },
  {
   "cell_type": "code",
   "execution_count": null,
   "id": "d0e9d099",
   "metadata": {},
   "outputs": [],
   "source": [
    "  for k in range(k_max):\n",
    "      x_set=[(0,0)]\n",
    "      V= aux.random_grid_indec(xmax, 4,3, 2)\n",
    "      #x_set=[0]\n",
    "      #V= aux.star_quiver(5, 8, 3)\n",
    "      \n",
    "      V=random_change_bases(V)\n",
    "      #V.display_graph(\"V\")\n",
    "      \n",
    "      \n",
    "      HN=computeHN(V,x_set)\n",
    "      #aux.print_grid_HN_type(HN, xmax,  x_set)\n",
    "      aux.compute_quotient_slopes(HN, x_set, V.vertices)\n",
    "      #print(len(HN[(0,0)]))\n",
    "      print(\"len=\",len(HN[x_set[0]]))"
   ]
  }
 ],
 "metadata": {
  "language_info": {
   "name": "python"
  }
 },
 "nbformat": 4,
 "nbformat_minor": 5
}
